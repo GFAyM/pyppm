{
 "cells": [
  {
   "cell_type": "code",
   "execution_count": 1,
   "metadata": {},
   "outputs": [],
   "source": [
    "import os\n",
    "import sys\n",
    "module_path = os.path.abspath(os.path.join('..'))\n",
    "\n",
    "if module_path not in sys.path:\n",
    "    sys.path.append(module_path)\n",
    "from pyppm.hrpa import HRPA \n",
    "from pyscf import gto, scf\n",
    "import numpy as np"
   ]
  },
  {
   "cell_type": "code",
   "execution_count": 3,
   "metadata": {},
   "outputs": [
    {
     "name": "stdout",
     "output_type": "stream",
     "text": [
      "converged SCF energy = -99.2537207648221\n",
      "-406.3275418299762 -5.6440124399390665\n",
      "17.93453912955146\n"
     ]
    }
   ],
   "source": [
    "mol = gto.M(atom='''\n",
    "F     0.0000000000    0.0000000000     0.1319629808\n",
    "H     0.0000000000    0.0000000000    -1.6902522555\n",
    "''', basis='3-21g', unit='angstrom')\n",
    "\n",
    "\n",
    "mf = mol.RHF().run()\n",
    "pp = HRPA(mf)\n",
    "\n",
    "print(pp.pp_ssc_fc_select([0],[1]) )"
   ]
  },
  {
   "cell_type": "code",
   "execution_count": 3,
   "metadata": {},
   "outputs": [
    {
     "name": "stdout",
     "output_type": "stream",
     "text": [
      "converged SCF energy = -99.8296676113009\n",
      "25.72318975724474\n"
     ]
    }
   ],
   "source": [
    "mol = gto.M(atom='''\n",
    "F     0.0000000000    0.0000000000     0.1319629808\n",
    "H     0.0000000000    0.0000000000    -1.6902522555\n",
    "''', basis='ccpvtz', unit='angstrom')\n",
    "\n",
    "\n",
    "mf = mol.RHF().run()\n",
    "pp = HRPA(mf)\n",
    "print(pp.pp_ssc_fc_select([0],[1]))"
   ]
  }
 ],
 "metadata": {
  "kernelspec": {
   "display_name": "Python 3",
   "language": "python",
   "name": "python3"
  },
  "language_info": {
   "codemirror_mode": {
    "name": "ipython",
    "version": 3
   },
   "file_extension": ".py",
   "mimetype": "text/x-python",
   "name": "python",
   "nbconvert_exporter": "python",
   "pygments_lexer": "ipython3",
   "version": "3.10.6"
  },
  "orig_nbformat": 4
 },
 "nbformat": 4,
 "nbformat_minor": 2
}
