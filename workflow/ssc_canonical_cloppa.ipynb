{
 "cells": [
  {
   "cell_type": "code",
   "execution_count": null,
   "metadata": {},
   "outputs": [],
   "source": [
    "# creating the path (PYTHONPATH) to our module.\n",
    "# assuming that our 'pyECM' directory is out ('..') of our current directory \n",
    "import os\n",
    "import sys\n",
    "module_path = os.path.abspath(os.path.join('..'))\n",
    "\n",
    "if module_path not in sys.path:\n",
    "    sys.path.append(module_path)"
   ]
  },
  {
   "cell_type": "code",
   "execution_count": null,
   "metadata": {},
   "outputs": [],
   "source": [
    "from pyppm.ssc_cloppa import Cloppa\n",
    "from pyppm.ssc_pol_prop import Prop_pol\n",
    "from pyppm.help_functions import extra_functions\n",
    "from pyscf import scf, gto"
   ]
  },
  {
   "attachments": {},
   "cell_type": "markdown",
   "metadata": {},
   "source": [
    "Let's going to import a molden file with localized molecular orbitals, in this \n",
    "case, for ethane molecule in cc-pvdz basis"
   ]
  },
  {
   "cell_type": "code",
   "execution_count": null,
   "metadata": {},
   "outputs": [],
   "source": [
    "mol, mo_coeff, mo_occ = extra_functions(molden_file='C2H6_ccpvdz_Pipek_Mezey.molden').extraer_coeff"
   ]
  },
  {
   "attachments": {},
   "cell_type": "markdown",
   "metadata": {},
   "source": [
    "With the mol object, we calculate FC and PSO contribution to total J-coupling between Hydrogen 3 and 7 nuclei"
   ]
  },
  {
   "cell_type": "code",
   "execution_count": null,
   "metadata": {},
   "outputs": [],
   "source": [
    "mf = scf.RHF(mol)\n",
    "mf.kernel()\n",
    "ssc_pso_canonical = Prop_pol(mf).ssc(PSO=True, FC=False, atom1='H3', atom2='H7')\n",
    "ssc_fc_canonical = Prop_pol(mf).ssc(FC=True, atom1='H3', atom2='H7')\n",
    "print('PSO = ',ssc_pso_canonical)\n",
    "print('FC = ',ssc_fc_canonical)"
   ]
  },
  {
   "attachments": {},
   "cell_type": "markdown",
   "metadata": {},
   "source": [
    "Now, we calculate the same with CLOPPA method, for which we must use the LMOs imported previously and the occupied orbitals information.\n",
    "The variable 'all_pathways = True' indicates that all coupling pathways available in the system is going to be used \n",
    "$$\n",
    "J^X(H_3,H_7) = \\sum_{ia} \\sum_{jb} J^X_{ia,jb}(H_3,H_7)\n",
    "$$"
   ]
  },
  {
   "cell_type": "code",
   "execution_count": null,
   "metadata": {},
   "outputs": [],
   "source": [
    "cloppa_obj = Cloppa(mo_coeff_loc=mo_coeff, mol_loc=mol, mo_occ_loc=mo_occ)\n",
    "ssc_FC_cloppa = cloppa_obj.ssc_pathway(atom1='H3', atom2='H7',  \n",
    "                            FC=True, PSO=False, FCSD=False, all_pathways=True)\n",
    "ssc_PSO_cloppa = cloppa_obj.ssc_pathway(atom1='H3', atom2='H7',  \n",
    "                            FC=False, PSO=True, FCSD=False, all_pathways=True)\n",
    "print('PSO = ', ssc_PSO_cloppa)\n",
    "print('FC = ', ssc_FC_cloppa)"
   ]
  },
  {
   "attachments": {},
   "cell_type": "markdown",
   "metadata": {},
   "source": [
    "We could fix two occupied LMOs  summing over all virtual LMOs, in order to know their contribution to a $J^X$.\n",
    "$$\n",
    "J^X_{i,j}(H_3,H_7) = \\sum_{ab}J^X_{ia,jb}(H_3,H_7)\n",
    "$$\n",
    "\n",
    "In this example, we are going to studied the coupling pathway conform by contribution of bonding and antibonding to Fermi-Contact mechanism"
   ]
  },
  {
   "cell_type": "code",
   "execution_count": null,
   "metadata": {},
   "outputs": [],
   "source": [
    "ssc_FC_path_ij = cloppa_obj.ssc_pathway(atom1='H3', atom2='H7', occ_atom1=3, \n",
    "                            occ_atom2=5, FC=True ,PSO=False, FCSD=False)\n",
    "print(ssc_FC_path_ij)"
   ]
  },
  {
   "attachments": {},
   "cell_type": "markdown",
   "metadata": {},
   "source": [
    "\n",
    "<img src=\"occ_ethane.png\" width=\"700\"> \n",
    "<div>\n",
    "\n",
    "This are the occupied LMOs chosen and they have a contribution of 8.864 Hz to total $J(H_3,H_7)$"
   ]
  },
  {
   "attachments": {},
   "cell_type": "markdown",
   "metadata": {},
   "source": [
    "Then, as the occupied orbitals 3 and 5 has big contribution to J, we are interested in know which are the virtual LMOs that contributes to that pathway $J^{FC}_{ia,jb}(H_3,H_7)$ . For that, we choose, for example, 37 and 38 virtual LMOs\n",
    "<div>\n",
    "<img src=\"anti_1s_etano.png\" width=\"700\">"
   ]
  },
  {
   "cell_type": "code",
   "execution_count": null,
   "metadata": {},
   "outputs": [],
   "source": [
    "ssc_FC_path_iajb = cloppa_obj.ssc_pathway(atom1='H3', atom2='H7', \n",
    "                                     occ_atom1=3, vir_atom1=36,  \n",
    "                                     occ_atom2=5, vir_atom2=37,\n",
    "                                     FC=True)\n",
    "print(ssc_FC_path_iajb) "
   ]
  },
  {
   "attachments": {},
   "cell_type": "markdown",
   "metadata": {},
   "source": [
    "Which tell us that those LMOs has a contribution of 11.4 Hz "
   ]
  },
  {
   "attachments": {},
   "cell_type": "markdown",
   "metadata": {},
   "source": [
    "Finally, we can also evaluate the perturbators $\\textbf{b}$ and principal propagator $\\textbf{P}$ element that conform that response\n",
    "$$\n",
    "J^{FC}_{ia,jb} = b^{FC}_{ia}(H_3) * {^3}P_{ia,jb} * b^{FC}_{jb}(H_7)\n",
    "$$"
   ]
  },
  {
   "cell_type": "code",
   "execution_count": null,
   "metadata": {},
   "outputs": [],
   "source": [
    "p1, m, p2 = cloppa_obj.pathway_elements(FC=False, FCSD=True, PSO=False,\n",
    "                        atom1='H3', occ_atom1=3, vir_atom1=36,\n",
    "                        atom2='H7', occ_atom2=5, vir_atom2=37)\n",
    "\n",
    "print('b^{FC}_{ia}(H_3) =',p1)\n",
    "print('P_{ia,jb} =', m)\n",
    "print('b^{FC}_{jb}(H_7) =',p2)\n",
    "\n",
    "\n"
   ]
  }
 ],
 "metadata": {
  "kernelspec": {
   "display_name": "venv",
   "language": "python",
   "name": "python3"
  },
  "language_info": {
   "codemirror_mode": {
    "name": "ipython",
    "version": 3
   },
   "file_extension": ".py",
   "mimetype": "text/x-python",
   "name": "python",
   "nbconvert_exporter": "python",
   "pygments_lexer": "ipython3",
   "version": "3.10.6"
  },
  "orig_nbformat": 4
 },
 "nbformat": 4,
 "nbformat_minor": 2
}
